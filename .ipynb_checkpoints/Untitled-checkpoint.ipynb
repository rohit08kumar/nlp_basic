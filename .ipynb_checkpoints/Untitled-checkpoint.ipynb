{
 "cells": [
  {
   "cell_type": "code",
   "execution_count": 1,
   "id": "80f107e7",
   "metadata": {},
   "outputs": [
    {
     "name": "stdout",
     "output_type": "stream",
     "text": [
      "Requirement already satisfied: nltk in c:\\users\\rohit.df.kumar\\appdata\\local\\anaconda3\\lib\\site-packages (3.7)\n",
      "Requirement already satisfied: joblib in c:\\users\\rohit.df.kumar\\appdata\\local\\anaconda3\\lib\\site-packages (from nltk) (1.1.1)\n",
      "Requirement already satisfied: regex>=2021.8.3 in c:\\users\\rohit.df.kumar\\appdata\\local\\anaconda3\\lib\\site-packages (from nltk) (2022.7.9)\n",
      "Requirement already satisfied: click in c:\\users\\rohit.df.kumar\\appdata\\local\\anaconda3\\lib\\site-packages (from nltk) (8.0.4)\n",
      "Requirement already satisfied: tqdm in c:\\users\\rohit.df.kumar\\appdata\\local\\anaconda3\\lib\\site-packages (from nltk) (4.64.1)\n",
      "Requirement already satisfied: colorama in c:\\users\\rohit.df.kumar\\appdata\\local\\anaconda3\\lib\\site-packages (from click->nltk) (0.4.6)\n"
     ]
    }
   ],
   "source": [
    "!pip install nltk"
   ]
  },
  {
   "cell_type": "code",
   "execution_count": 2,
   "id": "fdeaf9ff",
   "metadata": {},
   "outputs": [],
   "source": [
    "paragraph=\"\"\"Narendra Damodardas Modi[a] (born 17 September 1950)[b] is an Indian politician who has served as the prime minister of India since 2014. Modi was the chief minister of Gujarat from 2001 to 2014 and is the member of parliament (MP) for Varanasi. He is a member of the Bharatiya Janata Party (BJP) and of the Rashtriya Swayamsevak Sangh (RSS), a far-right Hindu nationalist paramilitary volunteer organisation. He is the longest-serving prime minister outside the Indian National Congress.[4]\n",
    "\n",
    "Modi was born and raised in Vadnagar in northeastern Gujarat, where he completed his secondary education. He was introduced to the RSS at the age of eight. At the age of 18, he was married to Jashodaben Modi, whom he abandoned soon after, only publicly acknowledging her four decades later when legally required to do so. Modi became a full-time worker for the RSS in Gujarat in 1971. The RSS assigned him to the BJP in 1985 and he rose through the party hierarchy, becoming general secretary in 1998.[c] In 2001, Modi was appointed chief minister of Gujarat and elected to the legislative assembly soon after. His administration is considered complicit in the 2002 Gujarat riots,[d] and has been criticised for its management of the crisis. According to official records, a little over 1,000 people were killed, three-quarters of whom were Muslim; independent sources estimated 2,000 deaths, mostly Muslim.[13] A Special Investigation Team appointed by the Supreme Court of India in 2012 found no evidence to initiate prosecution proceedings against him.[e] While his policies as chief minister were credited for encouraging economic growth, his administration was criticised for failing to significantly improve health, poverty and education indices in the state.[f]\"\"\""
   ]
  },
  {
   "cell_type": "code",
   "execution_count": 3,
   "id": "41b2fe73",
   "metadata": {},
   "outputs": [
    {
     "data": {
      "text/plain": [
       "'Narendra Damodardas Modi[a] (born 17 September 1950)[b] is an Indian politician who has served as the prime minister of India since 2014. Modi was the chief minister of Gujarat from 2001 to 2014 and is the member of parliament (MP) for Varanasi. He is a member of the Bharatiya Janata Party (BJP) and of the Rashtriya Swayamsevak Sangh (RSS), a far-right Hindu nationalist paramilitary volunteer organisation. He is the longest-serving prime minister outside the Indian National Congress.[4]\\n\\nModi was born and raised in Vadnagar in northeastern Gujarat, where he completed his secondary education. He was introduced to the RSS at the age of eight. At the age of 18, he was married to Jashodaben Modi, whom he abandoned soon after, only publicly acknowledging her four decades later when legally required to do so. Modi became a full-time worker for the RSS in Gujarat in 1971. The RSS assigned him to the BJP in 1985 and he rose through the party hierarchy, becoming general secretary in 1998.[c] In 2001, Modi was appointed chief minister of Gujarat and elected to the legislative assembly soon after. His administration is considered complicit in the 2002 Gujarat riots,[d] and has been criticised for its management of the crisis. According to official records, a little over 1,000 people were killed, three-quarters of whom were Muslim; independent sources estimated 2,000 deaths, mostly Muslim.[13] A Special Investigation Team appointed by the Supreme Court of India in 2012 found no evidence to initiate prosecution proceedings against him.[e] While his policies as chief minister were credited for encouraging economic growth, his administration was criticised for failing to significantly improve health, poverty and education indices in the state.[f]'"
      ]
     },
     "execution_count": 3,
     "metadata": {},
     "output_type": "execute_result"
    }
   ],
   "source": [
    "paragraph"
   ]
  },
  {
   "cell_type": "code",
   "execution_count": 1,
   "id": "661927db",
   "metadata": {},
   "outputs": [],
   "source": [
    "import nltk\n",
    "from nltk.stem import PorterStemmer\n",
    "from nltk.corpus import stopwords\n",
    "from nltk.tokenize import word_tokenize\n",
    "from nltk.stem import WordNetLemmatizer"
   ]
  },
  {
   "cell_type": "code",
   "execution_count": 50,
   "id": "12ae4dde",
   "metadata": {},
   "outputs": [
    {
     "name": "stderr",
     "output_type": "stream",
     "text": [
      "[nltk_data] Downloading package wordnet to\n",
      "[nltk_data]     C:\\Users\\rohit.df.kumar\\AppData\\Roaming\\nltk_data...\n",
      "[nltk_data] Downloading package omw-1.4 to\n",
      "[nltk_data]     C:\\Users\\rohit.df.kumar\\AppData\\Roaming\\nltk_data...\n"
     ]
    },
    {
     "data": {
      "text/plain": [
       "True"
      ]
     },
     "execution_count": 50,
     "metadata": {},
     "output_type": "execute_result"
    }
   ],
   "source": [
    "nltk.download('wordnet')     # Lemma data\n",
    "nltk.download('omw-1.4')     # Optional: better lemmatization (Open Multilingual Wordnet)"
   ]
  },
  {
   "cell_type": "code",
   "execution_count": 10,
   "id": "7cbd3aa7",
   "metadata": {},
   "outputs": [
    {
     "name": "stderr",
     "output_type": "stream",
     "text": [
      "[nltk_data] Downloading package punkt to\n",
      "[nltk_data]     C:\\Users\\rohit.df.kumar\\AppData\\Roaming\\nltk_data...\n",
      "[nltk_data]   Package punkt is already up-to-date!\n"
     ]
    }
   ],
   "source": [
    "# to convert paragraph into sentences\n",
    "nltk.download('punkt')\n",
    "sentences=nltk.sent_tokenize(paragraph)"
   ]
  },
  {
   "cell_type": "code",
   "execution_count": 11,
   "id": "334b5e8c",
   "metadata": {},
   "outputs": [
    {
     "data": {
      "text/plain": [
       "['Narendra Damodardas Modi[a] (born 17 September 1950)[b] is an Indian politician who has served as the prime minister of India since 2014.',\n",
       " 'Modi was the chief minister of Gujarat from 2001 to 2014 and is the member of parliament (MP) for Varanasi.',\n",
       " 'He is a member of the Bharatiya Janata Party (BJP) and of the Rashtriya Swayamsevak Sangh (RSS), a far-right Hindu nationalist paramilitary volunteer organisation.',\n",
       " 'He is the longest-serving prime minister outside the Indian National Congress.',\n",
       " '[4]\\n\\nModi was born and raised in Vadnagar in northeastern Gujarat, where he completed his secondary education.',\n",
       " 'He was introduced to the RSS at the age of eight.',\n",
       " 'At the age of 18, he was married to Jashodaben Modi, whom he abandoned soon after, only publicly acknowledging her four decades later when legally required to do so.',\n",
       " 'Modi became a full-time worker for the RSS in Gujarat in 1971.',\n",
       " 'The RSS assigned him to the BJP in 1985 and he rose through the party hierarchy, becoming general secretary in 1998.',\n",
       " '[c] In 2001, Modi was appointed chief minister of Gujarat and elected to the legislative assembly soon after.',\n",
       " 'His administration is considered complicit in the 2002 Gujarat riots,[d] and has been criticised for its management of the crisis.',\n",
       " 'According to official records, a little over 1,000 people were killed, three-quarters of whom were Muslim; independent sources estimated 2,000 deaths, mostly Muslim.',\n",
       " '[13] A Special Investigation Team appointed by the Supreme Court of India in 2012 found no evidence to initiate prosecution proceedings against him.',\n",
       " '[e] While his policies as chief minister were credited for encouraging economic growth, his administration was criticised for failing to significantly improve health, poverty and education indices in the state.',\n",
       " '[f]']"
      ]
     },
     "execution_count": 11,
     "metadata": {},
     "output_type": "execute_result"
    }
   ],
   "source": [
    "sentences"
   ]
  },
  {
   "cell_type": "code",
   "execution_count": 12,
   "id": "57857879",
   "metadata": {},
   "outputs": [
    {
     "data": {
      "text/plain": [
       "'Narendra Damodardas Modi[a] (born 17 September 1950)[b] is an Indian politician who has served as the prime minister of India since 2014.'"
      ]
     },
     "execution_count": 12,
     "metadata": {},
     "output_type": "execute_result"
    }
   ],
   "source": [
    "sentences[0]"
   ]
  },
  {
   "cell_type": "code",
   "execution_count": 14,
   "id": "90eb187d",
   "metadata": {},
   "outputs": [],
   "source": [
    "import re"
   ]
  },
  {
   "cell_type": "code",
   "execution_count": 16,
   "id": "afd047c1",
   "metadata": {},
   "outputs": [
    {
     "name": "stdout",
     "output_type": "stream",
     "text": [
      "Narendra Damodardas Modi[a] (born 17 September 1950)[b] is an Indian politician who has served as the prime minister of India since 2014.\n",
      "narendra damodardas modi a   born    september       b  is an indian politician who has served as the prime minister of india since      \n",
      "Modi was the chief minister of Gujarat from 2001 to 2014 and is the member of parliament (MP) for Varanasi.\n",
      "modi was the chief minister of gujarat from      to      and is the member of parliament  mp  for varanasi \n",
      "He is a member of the Bharatiya Janata Party (BJP) and of the Rashtriya Swayamsevak Sangh (RSS), a far-right Hindu nationalist paramilitary volunteer organisation.\n",
      "he is a member of the bharatiya janata party  bjp  and of the rashtriya swayamsevak sangh  rss   a far right hindu nationalist paramilitary volunteer organisation \n",
      "He is the longest-serving prime minister outside the Indian National Congress.\n",
      "he is the longest serving prime minister outside the indian national congress \n",
      "[4]\n",
      "\n",
      "Modi was born and raised in Vadnagar in northeastern Gujarat, where he completed his secondary education.\n",
      "     modi was born and raised in vadnagar in northeastern gujarat  where he completed his secondary education \n",
      "He was introduced to the RSS at the age of eight.\n",
      "he was introduced to the rss at the age of eight \n",
      "At the age of 18, he was married to Jashodaben Modi, whom he abandoned soon after, only publicly acknowledging her four decades later when legally required to do so.\n",
      "at the age of     he was married to jashodaben modi  whom he abandoned soon after  only publicly acknowledging her four decades later when legally required to do so \n",
      "Modi became a full-time worker for the RSS in Gujarat in 1971.\n",
      "modi became a full time worker for the rss in gujarat in      \n",
      "The RSS assigned him to the BJP in 1985 and he rose through the party hierarchy, becoming general secretary in 1998.\n",
      "the rss assigned him to the bjp in      and he rose through the party hierarchy  becoming general secretary in      \n",
      "[c] In 2001, Modi was appointed chief minister of Gujarat and elected to the legislative assembly soon after.\n",
      " c  in       modi was appointed chief minister of gujarat and elected to the legislative assembly soon after \n",
      "His administration is considered complicit in the 2002 Gujarat riots,[d] and has been criticised for its management of the crisis.\n",
      "his administration is considered complicit in the      gujarat riots  d  and has been criticised for its management of the crisis \n",
      "According to official records, a little over 1,000 people were killed, three-quarters of whom were Muslim; independent sources estimated 2,000 deaths, mostly Muslim.\n",
      "according to official records  a little over       people were killed  three quarters of whom were muslim  independent sources estimated       deaths  mostly muslim \n",
      "[13] A Special Investigation Team appointed by the Supreme Court of India in 2012 found no evidence to initiate prosecution proceedings against him.\n",
      "     a special investigation team appointed by the supreme court of india in      found no evidence to initiate prosecution proceedings against him \n",
      "[e] While his policies as chief minister were credited for encouraging economic growth, his administration was criticised for failing to significantly improve health, poverty and education indices in the state.\n",
      " e  while his policies as chief minister were credited for encouraging economic growth  his administration was criticised for failing to significantly improve health  poverty and education indices in the state \n",
      "[f]\n",
      " f \n"
     ]
    }
   ],
   "source": [
    "corpus=[]\n",
    "for i in range(len(sentences)):\n",
    "    print(sentences[i])\n",
    "    review=re.sub('[^a-zA-Z]',' ',sentences[i])\n",
    "    review=review.lower()\n",
    "    print(review)\n",
    "    corpus.append(review)"
   ]
  },
  {
   "cell_type": "code",
   "execution_count": 17,
   "id": "2f3bb1bd",
   "metadata": {},
   "outputs": [
    {
     "data": {
      "text/plain": [
       "['narendra damodardas modi a   born    september       b  is an indian politician who has served as the prime minister of india since      ',\n",
       " 'modi was the chief minister of gujarat from      to      and is the member of parliament  mp  for varanasi ',\n",
       " 'he is a member of the bharatiya janata party  bjp  and of the rashtriya swayamsevak sangh  rss   a far right hindu nationalist paramilitary volunteer organisation ',\n",
       " 'he is the longest serving prime minister outside the indian national congress ',\n",
       " '     modi was born and raised in vadnagar in northeastern gujarat  where he completed his secondary education ',\n",
       " 'he was introduced to the rss at the age of eight ',\n",
       " 'at the age of     he was married to jashodaben modi  whom he abandoned soon after  only publicly acknowledging her four decades later when legally required to do so ',\n",
       " 'modi became a full time worker for the rss in gujarat in      ',\n",
       " 'the rss assigned him to the bjp in      and he rose through the party hierarchy  becoming general secretary in      ',\n",
       " ' c  in       modi was appointed chief minister of gujarat and elected to the legislative assembly soon after ',\n",
       " 'his administration is considered complicit in the      gujarat riots  d  and has been criticised for its management of the crisis ',\n",
       " 'according to official records  a little over       people were killed  three quarters of whom were muslim  independent sources estimated       deaths  mostly muslim ',\n",
       " '     a special investigation team appointed by the supreme court of india in      found no evidence to initiate prosecution proceedings against him ',\n",
       " ' e  while his policies as chief minister were credited for encouraging economic growth  his administration was criticised for failing to significantly improve health  poverty and education indices in the state ',\n",
       " ' f ']"
      ]
     },
     "execution_count": 17,
     "metadata": {},
     "output_type": "execute_result"
    }
   ],
   "source": [
    "corpus"
   ]
  },
  {
   "cell_type": "code",
   "execution_count": 47,
   "id": "6a647dbc",
   "metadata": {},
   "outputs": [],
   "source": [
    "stemmer=PorterStemmer()\n",
    "lemm=WordNetLemmatizer()"
   ]
  },
  {
   "cell_type": "code",
   "execution_count": 21,
   "id": "526d99db",
   "metadata": {},
   "outputs": [
    {
     "data": {
      "text/plain": [
       "'narendra damodardas modi a   born    september       b  is an indian politician who has served as the prime minister of india since      '"
      ]
     },
     "execution_count": 21,
     "metadata": {},
     "output_type": "execute_result"
    }
   ],
   "source": [
    "stemmer.stem(corpus[0])"
   ]
  },
  {
   "cell_type": "code",
   "execution_count": 22,
   "id": "58283d54",
   "metadata": {},
   "outputs": [
    {
     "name": "stdout",
     "output_type": "stream",
     "text": [
      "narendra damodardas modi a   born    september       b  is an indian politician who has served as the prime minister of india since      \n",
      "modi was the chief minister of gujarat from      to      and is the member of parliament  mp  for varanasi \n",
      "he is a member of the bharatiya janata party  bjp  and of the rashtriya swayamsevak sangh  rss   a far right hindu nationalist paramilitary volunteer organisation \n",
      "he is the longest serving prime minister outside the indian national congress \n",
      "     modi was born and raised in vadnagar in northeastern gujarat  where he completed his secondary education \n",
      "he was introduced to the rss at the age of eight \n",
      "at the age of     he was married to jashodaben modi  whom he abandoned soon after  only publicly acknowledging her four decades later when legally required to do so \n",
      "modi became a full time worker for the rss in gujarat in      \n",
      "the rss assigned him to the bjp in      and he rose through the party hierarchy  becoming general secretary in      \n",
      " c  in       modi was appointed chief minister of gujarat and elected to the legislative assembly soon after \n",
      "his administration is considered complicit in the      gujarat riots  d  and has been criticised for its management of the crisis \n",
      "according to official records  a little over       people were killed  three quarters of whom were muslim  independent sources estimated       deaths  mostly muslim \n",
      "     a special investigation team appointed by the supreme court of india in      found no evidence to initiate prosecution proceedings against him \n",
      " e  while his policies as chief minister were credited for encouraging economic growth  his administration was criticised for failing to significantly improve health  poverty and education indices in the state \n",
      " f \n"
     ]
    }
   ],
   "source": [
    "for ele in corpus:\n",
    "    print(ele)"
   ]
  },
  {
   "cell_type": "code",
   "execution_count": 24,
   "id": "f838aef3",
   "metadata": {},
   "outputs": [
    {
     "data": {
      "text/plain": [
       "['narendra',\n",
       " 'damodardas',\n",
       " 'modi',\n",
       " 'a',\n",
       " 'born',\n",
       " 'september',\n",
       " 'b',\n",
       " 'is',\n",
       " 'an',\n",
       " 'indian',\n",
       " 'politician',\n",
       " 'who',\n",
       " 'has',\n",
       " 'served',\n",
       " 'as',\n",
       " 'the',\n",
       " 'prime',\n",
       " 'minister',\n",
       " 'of',\n",
       " 'india',\n",
       " 'since']"
      ]
     },
     "execution_count": 24,
     "metadata": {},
     "output_type": "execute_result"
    }
   ],
   "source": [
    "corpus[0].split()"
   ]
  },
  {
   "cell_type": "code",
   "execution_count": 27,
   "id": "c0220c6e",
   "metadata": {},
   "outputs": [
    {
     "data": {
      "text/plain": [
       "True"
      ]
     },
     "execution_count": 27,
     "metadata": {},
     "output_type": "execute_result"
    }
   ],
   "source": [
    "nltk.word_tokenize(corpus[0])==corpus[0].split()"
   ]
  },
  {
   "cell_type": "code",
   "execution_count": 3,
   "id": "a1b1f2c5",
   "metadata": {},
   "outputs": [
    {
     "data": {
      "text/plain": [
       "[\"it's\", 'hard']"
      ]
     },
     "execution_count": 3,
     "metadata": {},
     "output_type": "execute_result"
    }
   ],
   "source": [
    "\"it's hard\".split()"
   ]
  },
  {
   "cell_type": "code",
   "execution_count": 6,
   "id": "6554b993",
   "metadata": {},
   "outputs": [
    {
     "name": "stderr",
     "output_type": "stream",
     "text": [
      "[nltk_data] Downloading package wordnet to\n",
      "[nltk_data]     C:\\Users\\rohit.df.kumar\\AppData\\Roaming\\nltk_data...\n",
      "[nltk_data]   Package wordnet is already up-to-date!\n",
      "[nltk_data] Downloading package omw-1.4 to\n",
      "[nltk_data]     C:\\Users\\rohit.df.kumar\\AppData\\Roaming\\nltk_data...\n",
      "[nltk_data]   Package omw-1.4 is already up-to-date!\n",
      "[nltk_data] Downloading package punkt to\n",
      "[nltk_data]     C:\\Users\\rohit.df.kumar\\AppData\\Roaming\\nltk_data...\n",
      "[nltk_data]   Package punkt is already up-to-date!\n"
     ]
    },
    {
     "ename": "LookupError",
     "evalue": "\n**********************************************************************\n  Resource \u001b[93mpunkt_tab\u001b[0m not found.\n  Please use the NLTK Downloader to obtain the resource:\n\n  \u001b[31m>>> import nltk\n  >>> nltk.download('punkt_tab')\n  \u001b[0m\n  For more information see: https://www.nltk.org/data.html\n\n  Attempted to load \u001b[93mtokenizers/punkt_tab/english/\u001b[0m\n\n  Searched in:\n    - 'C:\\\\Users\\\\rohit.df.kumar/nltk_data'\n    - 'C:\\\\Users\\\\rohit.df.kumar\\\\AppData\\\\Local\\\\anaconda3\\\\nltk_data'\n    - 'C:\\\\Users\\\\rohit.df.kumar\\\\AppData\\\\Local\\\\anaconda3\\\\share\\\\nltk_data'\n    - 'C:\\\\Users\\\\rohit.df.kumar\\\\AppData\\\\Local\\\\anaconda3\\\\lib\\\\nltk_data'\n    - 'C:\\\\Users\\\\rohit.df.kumar\\\\AppData\\\\Roaming\\\\nltk_data'\n    - 'C:\\\\nltk_data'\n    - 'D:\\\\nltk_data'\n    - 'E:\\\\nltk_data'\n**********************************************************************\n",
     "output_type": "error",
     "traceback": [
      "\u001b[1;31m---------------------------------------------------------------------------\u001b[0m",
      "\u001b[1;31mLookupError\u001b[0m                               Traceback (most recent call last)",
      "Cell \u001b[1;32mIn[6], line 4\u001b[0m\n\u001b[0;32m      2\u001b[0m nltk\u001b[38;5;241m.\u001b[39mdownload(\u001b[38;5;124m'\u001b[39m\u001b[38;5;124momw-1.4\u001b[39m\u001b[38;5;124m'\u001b[39m)     \u001b[38;5;66;03m# Optional: better lemmatization (Open Multilingual Wordnet)\u001b[39;00m\n\u001b[0;32m      3\u001b[0m nltk\u001b[38;5;241m.\u001b[39mdownload(\u001b[38;5;124m'\u001b[39m\u001b[38;5;124mpunkt\u001b[39m\u001b[38;5;124m'\u001b[39m)\n\u001b[1;32m----> 4\u001b[0m \u001b[43mnltk\u001b[49m\u001b[38;5;241;43m.\u001b[39;49m\u001b[43mword_tokenize\u001b[49m\u001b[43m(\u001b[49m\u001b[38;5;124;43m\"\u001b[39;49m\u001b[38;5;124;43mit\u001b[39;49m\u001b[38;5;124;43m'\u001b[39;49m\u001b[38;5;124;43ms hard\u001b[39;49m\u001b[38;5;124;43m\"\u001b[39;49m\u001b[43m)\u001b[49m\n",
      "File \u001b[1;32m~\\AppData\\Local\\anaconda3\\lib\\site-packages\\nltk\\tokenize\\__init__.py:142\u001b[0m, in \u001b[0;36mword_tokenize\u001b[1;34m(text, language, preserve_line)\u001b[0m\n\u001b[0;32m    127\u001b[0m \u001b[38;5;28;01mdef\u001b[39;00m \u001b[38;5;21mword_tokenize\u001b[39m(text, language\u001b[38;5;241m=\u001b[39m\u001b[38;5;124m\"\u001b[39m\u001b[38;5;124menglish\u001b[39m\u001b[38;5;124m\"\u001b[39m, preserve_line\u001b[38;5;241m=\u001b[39m\u001b[38;5;28;01mFalse\u001b[39;00m):\n\u001b[0;32m    128\u001b[0m \u001b[38;5;250m    \u001b[39m\u001b[38;5;124;03m\"\"\"\u001b[39;00m\n\u001b[0;32m    129\u001b[0m \u001b[38;5;124;03m    Return a tokenized copy of *text*,\u001b[39;00m\n\u001b[0;32m    130\u001b[0m \u001b[38;5;124;03m    using NLTK's recommended word tokenizer\u001b[39;00m\n\u001b[1;32m   (...)\u001b[0m\n\u001b[0;32m    140\u001b[0m \u001b[38;5;124;03m    :type preserve_line: bool\u001b[39;00m\n\u001b[0;32m    141\u001b[0m \u001b[38;5;124;03m    \"\"\"\u001b[39;00m\n\u001b[1;32m--> 142\u001b[0m     sentences \u001b[38;5;241m=\u001b[39m [text] \u001b[38;5;28;01mif\u001b[39;00m preserve_line \u001b[38;5;28;01melse\u001b[39;00m \u001b[43msent_tokenize\u001b[49m\u001b[43m(\u001b[49m\u001b[43mtext\u001b[49m\u001b[43m,\u001b[49m\u001b[43m \u001b[49m\u001b[43mlanguage\u001b[49m\u001b[43m)\u001b[49m\n\u001b[0;32m    143\u001b[0m     \u001b[38;5;28;01mreturn\u001b[39;00m [\n\u001b[0;32m    144\u001b[0m         token \u001b[38;5;28;01mfor\u001b[39;00m sent \u001b[38;5;129;01min\u001b[39;00m sentences \u001b[38;5;28;01mfor\u001b[39;00m token \u001b[38;5;129;01min\u001b[39;00m _treebank_word_tokenizer\u001b[38;5;241m.\u001b[39mtokenize(sent)\n\u001b[0;32m    145\u001b[0m     ]\n",
      "File \u001b[1;32m~\\AppData\\Local\\anaconda3\\lib\\site-packages\\nltk\\tokenize\\__init__.py:119\u001b[0m, in \u001b[0;36msent_tokenize\u001b[1;34m(text, language)\u001b[0m\n\u001b[0;32m    109\u001b[0m \u001b[38;5;28;01mdef\u001b[39;00m \u001b[38;5;21msent_tokenize\u001b[39m(text, language\u001b[38;5;241m=\u001b[39m\u001b[38;5;124m\"\u001b[39m\u001b[38;5;124menglish\u001b[39m\u001b[38;5;124m\"\u001b[39m):\n\u001b[0;32m    110\u001b[0m \u001b[38;5;250m    \u001b[39m\u001b[38;5;124;03m\"\"\"\u001b[39;00m\n\u001b[0;32m    111\u001b[0m \u001b[38;5;124;03m    Return a sentence-tokenized copy of *text*,\u001b[39;00m\n\u001b[0;32m    112\u001b[0m \u001b[38;5;124;03m    using NLTK's recommended sentence tokenizer\u001b[39;00m\n\u001b[1;32m   (...)\u001b[0m\n\u001b[0;32m    117\u001b[0m \u001b[38;5;124;03m    :param language: the model name in the Punkt corpus\u001b[39;00m\n\u001b[0;32m    118\u001b[0m \u001b[38;5;124;03m    \"\"\"\u001b[39;00m\n\u001b[1;32m--> 119\u001b[0m     tokenizer \u001b[38;5;241m=\u001b[39m \u001b[43m_get_punkt_tokenizer\u001b[49m\u001b[43m(\u001b[49m\u001b[43mlanguage\u001b[49m\u001b[43m)\u001b[49m\n\u001b[0;32m    120\u001b[0m     \u001b[38;5;28;01mreturn\u001b[39;00m tokenizer\u001b[38;5;241m.\u001b[39mtokenize(text)\n",
      "File \u001b[1;32m~\\AppData\\Local\\anaconda3\\lib\\site-packages\\nltk\\tokenize\\__init__.py:105\u001b[0m, in \u001b[0;36m_get_punkt_tokenizer\u001b[1;34m(language)\u001b[0m\n\u001b[0;32m     96\u001b[0m \u001b[38;5;129m@functools\u001b[39m\u001b[38;5;241m.\u001b[39mlru_cache\n\u001b[0;32m     97\u001b[0m \u001b[38;5;28;01mdef\u001b[39;00m \u001b[38;5;21m_get_punkt_tokenizer\u001b[39m(language\u001b[38;5;241m=\u001b[39m\u001b[38;5;124m\"\u001b[39m\u001b[38;5;124menglish\u001b[39m\u001b[38;5;124m\"\u001b[39m):\n\u001b[0;32m     98\u001b[0m \u001b[38;5;250m    \u001b[39m\u001b[38;5;124;03m\"\"\"\u001b[39;00m\n\u001b[0;32m     99\u001b[0m \u001b[38;5;124;03m    A constructor for the PunktTokenizer that utilizes\u001b[39;00m\n\u001b[0;32m    100\u001b[0m \u001b[38;5;124;03m    a lru cache for performance.\u001b[39;00m\n\u001b[1;32m   (...)\u001b[0m\n\u001b[0;32m    103\u001b[0m \u001b[38;5;124;03m    :type language: str\u001b[39;00m\n\u001b[0;32m    104\u001b[0m \u001b[38;5;124;03m    \"\"\"\u001b[39;00m\n\u001b[1;32m--> 105\u001b[0m     \u001b[38;5;28;01mreturn\u001b[39;00m \u001b[43mPunktTokenizer\u001b[49m\u001b[43m(\u001b[49m\u001b[43mlanguage\u001b[49m\u001b[43m)\u001b[49m\n",
      "File \u001b[1;32m~\\AppData\\Local\\anaconda3\\lib\\site-packages\\nltk\\tokenize\\punkt.py:1744\u001b[0m, in \u001b[0;36mPunktTokenizer.__init__\u001b[1;34m(self, lang)\u001b[0m\n\u001b[0;32m   1742\u001b[0m \u001b[38;5;28;01mdef\u001b[39;00m \u001b[38;5;21m__init__\u001b[39m(\u001b[38;5;28mself\u001b[39m, lang\u001b[38;5;241m=\u001b[39m\u001b[38;5;124m\"\u001b[39m\u001b[38;5;124menglish\u001b[39m\u001b[38;5;124m\"\u001b[39m):\n\u001b[0;32m   1743\u001b[0m     PunktSentenceTokenizer\u001b[38;5;241m.\u001b[39m\u001b[38;5;21m__init__\u001b[39m(\u001b[38;5;28mself\u001b[39m)\n\u001b[1;32m-> 1744\u001b[0m     \u001b[38;5;28;43mself\u001b[39;49m\u001b[38;5;241;43m.\u001b[39;49m\u001b[43mload_lang\u001b[49m\u001b[43m(\u001b[49m\u001b[43mlang\u001b[49m\u001b[43m)\u001b[49m\n",
      "File \u001b[1;32m~\\AppData\\Local\\anaconda3\\lib\\site-packages\\nltk\\tokenize\\punkt.py:1749\u001b[0m, in \u001b[0;36mPunktTokenizer.load_lang\u001b[1;34m(self, lang)\u001b[0m\n\u001b[0;32m   1746\u001b[0m \u001b[38;5;28;01mdef\u001b[39;00m \u001b[38;5;21mload_lang\u001b[39m(\u001b[38;5;28mself\u001b[39m, lang\u001b[38;5;241m=\u001b[39m\u001b[38;5;124m\"\u001b[39m\u001b[38;5;124menglish\u001b[39m\u001b[38;5;124m\"\u001b[39m):\n\u001b[0;32m   1747\u001b[0m     \u001b[38;5;28;01mfrom\u001b[39;00m \u001b[38;5;21;01mnltk\u001b[39;00m\u001b[38;5;21;01m.\u001b[39;00m\u001b[38;5;21;01mdata\u001b[39;00m \u001b[38;5;28;01mimport\u001b[39;00m find\n\u001b[1;32m-> 1749\u001b[0m     lang_dir \u001b[38;5;241m=\u001b[39m \u001b[43mfind\u001b[49m\u001b[43m(\u001b[49m\u001b[38;5;124;43mf\u001b[39;49m\u001b[38;5;124;43m\"\u001b[39;49m\u001b[38;5;124;43mtokenizers/punkt_tab/\u001b[39;49m\u001b[38;5;132;43;01m{\u001b[39;49;00m\u001b[43mlang\u001b[49m\u001b[38;5;132;43;01m}\u001b[39;49;00m\u001b[38;5;124;43m/\u001b[39;49m\u001b[38;5;124;43m\"\u001b[39;49m\u001b[43m)\u001b[49m\n\u001b[0;32m   1750\u001b[0m     \u001b[38;5;28mself\u001b[39m\u001b[38;5;241m.\u001b[39m_params \u001b[38;5;241m=\u001b[39m load_punkt_params(lang_dir)\n\u001b[0;32m   1751\u001b[0m     \u001b[38;5;28mself\u001b[39m\u001b[38;5;241m.\u001b[39m_lang \u001b[38;5;241m=\u001b[39m lang\n",
      "File \u001b[1;32m~\\AppData\\Local\\anaconda3\\lib\\site-packages\\nltk\\data.py:579\u001b[0m, in \u001b[0;36mfind\u001b[1;34m(resource_name, paths)\u001b[0m\n\u001b[0;32m    577\u001b[0m sep \u001b[38;5;241m=\u001b[39m \u001b[38;5;124m\"\u001b[39m\u001b[38;5;124m*\u001b[39m\u001b[38;5;124m\"\u001b[39m \u001b[38;5;241m*\u001b[39m \u001b[38;5;241m70\u001b[39m\n\u001b[0;32m    578\u001b[0m resource_not_found \u001b[38;5;241m=\u001b[39m \u001b[38;5;124mf\u001b[39m\u001b[38;5;124m\"\u001b[39m\u001b[38;5;130;01m\\n\u001b[39;00m\u001b[38;5;132;01m{\u001b[39;00msep\u001b[38;5;132;01m}\u001b[39;00m\u001b[38;5;130;01m\\n\u001b[39;00m\u001b[38;5;132;01m{\u001b[39;00mmsg\u001b[38;5;132;01m}\u001b[39;00m\u001b[38;5;130;01m\\n\u001b[39;00m\u001b[38;5;132;01m{\u001b[39;00msep\u001b[38;5;132;01m}\u001b[39;00m\u001b[38;5;130;01m\\n\u001b[39;00m\u001b[38;5;124m\"\u001b[39m\n\u001b[1;32m--> 579\u001b[0m \u001b[38;5;28;01mraise\u001b[39;00m \u001b[38;5;167;01mLookupError\u001b[39;00m(resource_not_found)\n",
      "\u001b[1;31mLookupError\u001b[0m: \n**********************************************************************\n  Resource \u001b[93mpunkt_tab\u001b[0m not found.\n  Please use the NLTK Downloader to obtain the resource:\n\n  \u001b[31m>>> import nltk\n  >>> nltk.download('punkt_tab')\n  \u001b[0m\n  For more information see: https://www.nltk.org/data.html\n\n  Attempted to load \u001b[93mtokenizers/punkt_tab/english/\u001b[0m\n\n  Searched in:\n    - 'C:\\\\Users\\\\rohit.df.kumar/nltk_data'\n    - 'C:\\\\Users\\\\rohit.df.kumar\\\\AppData\\\\Local\\\\anaconda3\\\\nltk_data'\n    - 'C:\\\\Users\\\\rohit.df.kumar\\\\AppData\\\\Local\\\\anaconda3\\\\share\\\\nltk_data'\n    - 'C:\\\\Users\\\\rohit.df.kumar\\\\AppData\\\\Local\\\\anaconda3\\\\lib\\\\nltk_data'\n    - 'C:\\\\Users\\\\rohit.df.kumar\\\\AppData\\\\Roaming\\\\nltk_data'\n    - 'C:\\\\nltk_data'\n    - 'D:\\\\nltk_data'\n    - 'E:\\\\nltk_data'\n**********************************************************************\n"
     ]
    }
   ],
   "source": [
    "nltk.download('wordnet')     # Lemma data\n",
    "nltk.download('omw-1.4')     # Optional: better lemmatization (Open Multilingual Wordnet)\n",
    "nltk.download('punkt')\n",
    "nltk.word_tokenize(\"it's hard\")"
   ]
  },
  {
   "cell_type": "code",
   "execution_count": 53,
   "id": "aaf590ce",
   "metadata": {},
   "outputs": [
    {
     "name": "stdout",
     "output_type": "stream",
     "text": [
      "narendra\n",
      "damodarda\n",
      "modi\n",
      "born\n",
      "septemb\n",
      "b\n",
      "indian\n",
      "politician\n",
      "serv\n",
      "prime\n",
      "minist\n",
      "india\n",
      "sinc\n",
      "modi\n",
      "chief\n",
      "minist\n",
      "gujarat\n",
      "member\n",
      "parliament\n",
      "mp\n",
      "varanasi\n",
      "member\n",
      "bharatiya\n",
      "janata\n",
      "parti\n",
      "bjp\n",
      "rashtriya\n",
      "swayamsevak\n",
      "sangh\n",
      "rss\n",
      "far\n",
      "right\n",
      "hindu\n",
      "nationalist\n",
      "paramilitari\n",
      "volunt\n",
      "organis\n",
      "longest\n",
      "serv\n",
      "prime\n",
      "minist\n",
      "outsid\n",
      "indian\n",
      "nation\n",
      "congress\n",
      "modi\n",
      "born\n",
      "rais\n",
      "vadnagar\n",
      "northeastern\n",
      "gujarat\n",
      "complet\n",
      "secondari\n",
      "educ\n",
      "introduc\n",
      "rss\n",
      "age\n",
      "eight\n",
      "age\n",
      "marri\n",
      "jashodaben\n",
      "modi\n",
      "abandon\n",
      "soon\n",
      "publicli\n",
      "acknowledg\n",
      "four\n",
      "decad\n",
      "later\n",
      "legal\n",
      "requir\n",
      "modi\n",
      "becam\n",
      "full\n",
      "time\n",
      "worker\n",
      "rss\n",
      "gujarat\n",
      "rss\n",
      "assign\n",
      "bjp\n",
      "rose\n",
      "parti\n",
      "hierarchi\n",
      "becom\n",
      "gener\n",
      "secretari\n",
      "c\n",
      "modi\n",
      "appoint\n",
      "chief\n",
      "minist\n",
      "gujarat\n",
      "elect\n",
      "legisl\n",
      "assembl\n",
      "soon\n",
      "administr\n",
      "consid\n",
      "complicit\n",
      "gujarat\n",
      "riot\n",
      "criticis\n",
      "manag\n",
      "crisi\n",
      "accord\n",
      "offici\n",
      "record\n",
      "littl\n",
      "peopl\n",
      "kill\n",
      "three\n",
      "quarter\n",
      "muslim\n",
      "independ\n",
      "sourc\n",
      "estim\n",
      "death\n",
      "mostli\n",
      "muslim\n",
      "special\n",
      "investig\n",
      "team\n",
      "appoint\n",
      "suprem\n",
      "court\n",
      "india\n",
      "found\n",
      "evid\n",
      "initi\n",
      "prosecut\n",
      "proceed\n",
      "e\n",
      "polici\n",
      "chief\n",
      "minist\n",
      "credit\n",
      "encourag\n",
      "econom\n",
      "growth\n",
      "administr\n",
      "criticis\n",
      "fail\n",
      "significantli\n",
      "improv\n",
      "health\n",
      "poverti\n",
      "educ\n",
      "indic\n",
      "state\n",
      "f\n"
     ]
    }
   ],
   "source": [
    "# nltk.download('stopwords')\n",
    "for sent in corpus:\n",
    "    words=nltk.word_tokenize(sent)\n",
    "    for word in words:\n",
    "        if word not in set(stopwords.words('english')):\n",
    "            print(stemmer.stem(word))\n",
    "#             print(lemm.lemmatize(word))\n",
    "\n"
   ]
  },
  {
   "cell_type": "code",
   "execution_count": 56,
   "id": "3d6cdaaa",
   "metadata": {},
   "outputs": [],
   "source": [
    "from sklearn.feature_extraction.text import CountVectorizer\n",
    "cv=CountVectorizer()"
   ]
  },
  {
   "cell_type": "code",
   "execution_count": 60,
   "id": "dfbddb10",
   "metadata": {},
   "outputs": [],
   "source": [
    "x=cv.fit_transform(corpus)"
   ]
  },
  {
   "cell_type": "code",
   "execution_count": 61,
   "id": "6c8aa82e",
   "metadata": {},
   "outputs": [
    {
     "data": {
      "text/plain": [
       "{'narendra': 86,\n",
       " 'damodardas': 30,\n",
       " 'modi': 82,\n",
       " 'born': 19,\n",
       " 'september': 120,\n",
       " 'is': 68,\n",
       " 'an': 7,\n",
       " 'indian': 63,\n",
       " 'politician': 102,\n",
       " 'who': 146,\n",
       " 'has': 51,\n",
       " 'served': 121,\n",
       " 'as': 10,\n",
       " 'the': 133,\n",
       " 'prime': 104,\n",
       " 'minister': 81,\n",
       " 'of': 91,\n",
       " 'india': 62,\n",
       " 'since': 124,\n",
       " 'was': 141,\n",
       " 'chief': 21,\n",
       " 'gujarat': 50,\n",
       " 'from': 46,\n",
       " 'to': 137,\n",
       " 'and': 8,\n",
       " 'member': 80,\n",
       " 'parliament': 98,\n",
       " 'mp': 84,\n",
       " 'for': 43,\n",
       " 'varanasi': 139,\n",
       " 'he': 52,\n",
       " 'bharatiya': 17,\n",
       " 'janata': 70,\n",
       " 'party': 99,\n",
       " 'bjp': 18,\n",
       " 'rashtriya': 110,\n",
       " 'swayamsevak': 131,\n",
       " 'sangh': 117,\n",
       " 'rss': 116,\n",
       " 'far': 42,\n",
       " 'right': 113,\n",
       " 'hindu': 57,\n",
       " 'nationalist': 88,\n",
       " 'paramilitary': 97,\n",
       " 'volunteer': 140,\n",
       " 'organisation': 94,\n",
       " 'longest': 77,\n",
       " 'serving': 122,\n",
       " 'outside': 95,\n",
       " 'national': 87,\n",
       " 'congress': 24,\n",
       " 'raised': 109,\n",
       " 'in': 60,\n",
       " 'vadnagar': 138,\n",
       " 'northeastern': 90,\n",
       " 'where': 144,\n",
       " 'completed': 22,\n",
       " 'his': 58,\n",
       " 'secondary': 118,\n",
       " 'education': 35,\n",
       " 'introduced': 66,\n",
       " 'at': 13,\n",
       " 'age': 6,\n",
       " 'eight': 36,\n",
       " 'married': 79,\n",
       " 'jashodaben': 71,\n",
       " 'whom': 147,\n",
       " 'abandoned': 0,\n",
       " 'soon': 126,\n",
       " 'after': 4,\n",
       " 'only': 93,\n",
       " 'publicly': 107,\n",
       " 'acknowledging': 2,\n",
       " 'her': 54,\n",
       " 'four': 45,\n",
       " 'decades': 32,\n",
       " 'later': 73,\n",
       " 'when': 143,\n",
       " 'legally': 74,\n",
       " 'required': 112,\n",
       " 'do': 33,\n",
       " 'so': 125,\n",
       " 'became': 14,\n",
       " 'full': 47,\n",
       " 'time': 136,\n",
       " 'worker': 148,\n",
       " 'assigned': 12,\n",
       " 'him': 56,\n",
       " 'rose': 115,\n",
       " 'through': 135,\n",
       " 'hierarchy': 55,\n",
       " 'becoming': 15,\n",
       " 'general': 48,\n",
       " 'secretary': 119,\n",
       " 'appointed': 9,\n",
       " 'elected': 37,\n",
       " 'legislative': 75,\n",
       " 'assembly': 11,\n",
       " 'administration': 3,\n",
       " 'considered': 25,\n",
       " 'complicit': 23,\n",
       " 'riots': 114,\n",
       " 'been': 16,\n",
       " 'criticised': 29,\n",
       " 'its': 69,\n",
       " 'management': 78,\n",
       " 'crisis': 28,\n",
       " 'according': 1,\n",
       " 'official': 92,\n",
       " 'records': 111,\n",
       " 'little': 76,\n",
       " 'over': 96,\n",
       " 'people': 100,\n",
       " 'were': 142,\n",
       " 'killed': 72,\n",
       " 'three': 134,\n",
       " 'quarters': 108,\n",
       " 'muslim': 85,\n",
       " 'independent': 61,\n",
       " 'sources': 127,\n",
       " 'estimated': 39,\n",
       " 'deaths': 31,\n",
       " 'mostly': 83,\n",
       " 'special': 128,\n",
       " 'investigation': 67,\n",
       " 'team': 132,\n",
       " 'by': 20,\n",
       " 'supreme': 130,\n",
       " 'court': 26,\n",
       " 'found': 44,\n",
       " 'no': 89,\n",
       " 'evidence': 40,\n",
       " 'initiate': 65,\n",
       " 'prosecution': 106,\n",
       " 'proceedings': 105,\n",
       " 'against': 5,\n",
       " 'while': 145,\n",
       " 'policies': 101,\n",
       " 'credited': 27,\n",
       " 'encouraging': 38,\n",
       " 'economic': 34,\n",
       " 'growth': 49,\n",
       " 'failing': 41,\n",
       " 'significantly': 123,\n",
       " 'improve': 59,\n",
       " 'health': 53,\n",
       " 'poverty': 103,\n",
       " 'indices': 64,\n",
       " 'state': 129}"
      ]
     },
     "execution_count": 61,
     "metadata": {},
     "output_type": "execute_result"
    }
   ],
   "source": [
    "cv.vocabulary_"
   ]
  },
  {
   "cell_type": "code",
   "execution_count": 64,
   "id": "0569bb54",
   "metadata": {},
   "outputs": [
    {
     "data": {
      "text/plain": [
       "array([[0, 0, 0, 0, 0, 0, 0, 0, 0, 0, 0, 0, 0, 0, 0, 0, 0, 0, 0, 0, 0, 0,\n",
       "        0, 0, 1, 0, 0, 0, 0, 0, 0, 0, 0, 0, 0, 0, 0, 0, 0, 0, 0, 0, 0, 0,\n",
       "        0, 0, 0, 0, 0, 0, 0, 0, 1, 0, 0, 0, 0, 0, 0, 0, 0, 0, 0, 1, 0, 0,\n",
       "        0, 0, 1, 0, 0, 0, 0, 0, 0, 0, 0, 1, 0, 0, 0, 1, 0, 0, 0, 0, 0, 1,\n",
       "        0, 0, 0, 0, 0, 0, 0, 1, 0, 0, 0, 0, 0, 0, 0, 0, 1, 0, 0, 0, 0, 0,\n",
       "        0, 0, 0, 0, 0, 0, 0, 0, 0, 0, 0, 0, 1, 0, 0, 0, 0, 0, 0, 0, 0, 0,\n",
       "        0, 2, 0, 0, 0, 0, 0, 0, 0, 0, 0, 0, 0, 0, 0, 0, 0]], dtype=int64)"
      ]
     },
     "execution_count": 64,
     "metadata": {},
     "output_type": "execute_result"
    }
   ],
   "source": [
    "x[3].toarray()"
   ]
  },
  {
   "cell_type": "code",
   "execution_count": 74,
   "id": "cb86ad02",
   "metadata": {},
   "outputs": [
    {
     "name": "stdout",
     "output_type": "stream",
     "text": [
      "Narendra Damodardas Modi[a] (born 17 September 1950)[b] is an Indian politician who has served as the prime minister of India since 2014.\n",
      "Narendra Damodardas Modi[a]  born    September      [b] is an Indian politician who has served as the prime minister of India since      \n",
      "Modi was the chief minister of Gujarat from 2001 to 2014 and is the member of parliament (MP) for Varanasi.\n",
      "Modi was the chief minister of Gujarat from      to      and is the member of parliament  MP  for Varanasi \n",
      "He is a member of the Bharatiya Janata Party (BJP) and of the Rashtriya Swayamsevak Sangh (RSS), a far-right Hindu nationalist paramilitary volunteer organisation.\n",
      "He is a member of the Bharatiya Janata Party  BJP  and of the Rashtriya Swayamsevak Sangh  RSS   a far right Hindu nationalist paramilitary volunteer organisation \n",
      "He is the longest-serving prime minister outside the Indian National Congress.\n",
      "He is the longest serving prime minister outside the Indian National Congress \n",
      "[4]\n",
      "\n",
      "Modi was born and raised in Vadnagar in northeastern Gujarat, where he completed his secondary education.\n",
      "[ ]  Modi was born and raised in Vadnagar in northeastern Gujarat  where he completed his secondary education \n",
      "He was introduced to the RSS at the age of eight.\n",
      "He was introduced to the RSS at the age of eight \n",
      "At the age of 18, he was married to Jashodaben Modi, whom he abandoned soon after, only publicly acknowledging her four decades later when legally required to do so.\n",
      "At the age of     he was married to Jashodaben Modi  whom he abandoned soon after  only publicly acknowledging her four decades later when legally required to do so \n",
      "Modi became a full-time worker for the RSS in Gujarat in 1971.\n",
      "Modi became a full time worker for the RSS in Gujarat in      \n",
      "The RSS assigned him to the BJP in 1985 and he rose through the party hierarchy, becoming general secretary in 1998.\n",
      "The RSS assigned him to the BJP in      and he rose through the party hierarchy  becoming general secretary in      \n",
      "[c] In 2001, Modi was appointed chief minister of Gujarat and elected to the legislative assembly soon after.\n",
      "[c] In       Modi was appointed chief minister of Gujarat and elected to the legislative assembly soon after \n",
      "His administration is considered complicit in the 2002 Gujarat riots,[d] and has been criticised for its management of the crisis.\n",
      "His administration is considered complicit in the      Gujarat riots [d] and has been criticised for its management of the crisis \n",
      "According to official records, a little over 1,000 people were killed, three-quarters of whom were Muslim; independent sources estimated 2,000 deaths, mostly Muslim.\n",
      "According to official records  a little over       people were killed  three quarters of whom were Muslim  independent sources estimated       deaths  mostly Muslim \n",
      "[13] A Special Investigation Team appointed by the Supreme Court of India in 2012 found no evidence to initiate prosecution proceedings against him.\n",
      "[  ] A Special Investigation Team appointed by the Supreme Court of India in      found no evidence to initiate prosecution proceedings against him \n",
      "[e] While his policies as chief minister were credited for encouraging economic growth, his administration was criticised for failing to significantly improve health, poverty and education indices in the state.\n",
      "[e] While his policies as chief minister were credited for encouraging economic growth  his administration was criticised for failing to significantly improve health  poverty and education indices in the state \n",
      "[f]\n",
      "[f]\n"
     ]
    }
   ],
   "source": [
    "for i in range(len(sentences)):\n",
    "    print(sentences[i])\n",
    "    review=re.sub('[^a-zA-z]',' ',sentences[i])\n",
    "    print(review)"
   ]
  },
  {
   "cell_type": "code",
   "execution_count": 83,
   "id": "9b49de71",
   "metadata": {},
   "outputs": [],
   "source": [
    "corpus=[]\n",
    "for ele in sentences:\n",
    "    review=re.sub('[^a-zA-z]',' ',ele)\n",
    "    review=review.lower()\n",
    "    review=nltk.word_tokenize(review)\n",
    "    review=[lemm.lemmatize(word) for word in review if not word in set(stopwords.words('english'))]\n",
    "    review=' '.join(review)\n",
    "    corpus.append(review)\n"
   ]
  },
  {
   "cell_type": "code",
   "execution_count": 84,
   "id": "c1f4adb2",
   "metadata": {},
   "outputs": [
    {
     "data": {
      "text/plain": [
       "['narendra damodardas modi [ ] born september [ b ] indian politician served prime minister india since',\n",
       " 'modi chief minister gujarat member parliament mp varanasi',\n",
       " 'member bharatiya janata party bjp rashtriya swayamsevak sangh r far right hindu nationalist paramilitary volunteer organisation',\n",
       " 'longest serving prime minister outside indian national congress',\n",
       " '[ ] modi born raised vadnagar northeastern gujarat completed secondary education',\n",
       " 'introduced r age eight',\n",
       " 'age married jashodaben modi abandoned soon publicly acknowledging four decade later legally required',\n",
       " 'modi became full time worker r gujarat',\n",
       " 'r assigned bjp rose party hierarchy becoming general secretary',\n",
       " '[ c ] modi appointed chief minister gujarat elected legislative assembly soon',\n",
       " 'administration considered complicit gujarat riot [ ] criticised management crisis',\n",
       " 'according official record little people killed three quarter muslim independent source estimated death mostly muslim',\n",
       " '[ ] special investigation team appointed supreme court india found evidence initiate prosecution proceeding',\n",
       " '[ e ] policy chief minister credited encouraging economic growth administration criticised failing significantly improve health poverty education index state',\n",
       " '[ f ]']"
      ]
     },
     "execution_count": 84,
     "metadata": {},
     "output_type": "execute_result"
    }
   ],
   "source": [
    "corpus"
   ]
  },
  {
   "cell_type": "code",
   "execution_count": 85,
   "id": "5cb0ea30",
   "metadata": {},
   "outputs": [],
   "source": [
    "from sklearn.feature_extraction.text import CountVectorizer\n",
    "cv=CountVectorizer()"
   ]
  },
  {
   "cell_type": "code",
   "execution_count": 86,
   "id": "932dd321",
   "metadata": {},
   "outputs": [],
   "source": [
    "X=cv.fit_transform(corpus)"
   ]
  },
  {
   "cell_type": "code",
   "execution_count": 87,
   "id": "c524c20f",
   "metadata": {},
   "outputs": [
    {
     "data": {
      "text/plain": [
       "<1x114 sparse matrix of type '<class 'numpy.int64'>'\n",
       "\twith 12 stored elements in Compressed Sparse Row format>"
      ]
     },
     "execution_count": 87,
     "metadata": {},
     "output_type": "execute_result"
    }
   ],
   "source": [
    "X[0]"
   ]
  },
  {
   "cell_type": "code",
   "execution_count": 88,
   "id": "db2cc75d",
   "metadata": {
    "scrolled": false
   },
   "outputs": [
    {
     "data": {
      "text/plain": [
       "{'narendra': 67,\n",
       " 'damodardas': 22,\n",
       " 'modi': 63,\n",
       " 'born': 12,\n",
       " 'september': 96,\n",
       " 'indian': 47,\n",
       " 'politician': 79,\n",
       " 'served': 97,\n",
       " 'prime': 81,\n",
       " 'minister': 62,\n",
       " 'india': 46,\n",
       " 'since': 100,\n",
       " 'chief': 13,\n",
       " 'gujarat': 39,\n",
       " 'member': 61,\n",
       " 'parliament': 75,\n",
       " 'mp': 65,\n",
       " 'varanasi': 111,\n",
       " 'bharatiya': 10,\n",
       " 'janata': 51,\n",
       " 'party': 76,\n",
       " 'bjp': 11,\n",
       " 'rashtriya': 87,\n",
       " 'swayamsevak': 106,\n",
       " 'sangh': 93,\n",
       " 'far': 33,\n",
       " 'right': 90,\n",
       " 'hindu': 42,\n",
       " 'nationalist': 69,\n",
       " 'paramilitary': 74,\n",
       " 'volunteer': 112,\n",
       " 'organisation': 72,\n",
       " 'longest': 58,\n",
       " 'serving': 98,\n",
       " 'outside': 73,\n",
       " 'national': 68,\n",
       " 'congress': 16,\n",
       " 'raised': 86,\n",
       " 'vadnagar': 110,\n",
       " 'northeastern': 70,\n",
       " 'completed': 14,\n",
       " 'secondary': 94,\n",
       " 'education': 26,\n",
       " 'introduced': 49,\n",
       " 'age': 4,\n",
       " 'eight': 27,\n",
       " 'married': 60,\n",
       " 'jashodaben': 52,\n",
       " 'abandoned': 0,\n",
       " 'soon': 101,\n",
       " 'publicly': 84,\n",
       " 'acknowledging': 2,\n",
       " 'four': 35,\n",
       " 'decade': 24,\n",
       " 'later': 54,\n",
       " 'legally': 55,\n",
       " 'required': 89,\n",
       " 'became': 8,\n",
       " 'full': 36,\n",
       " 'time': 109,\n",
       " 'worker': 113,\n",
       " 'assigned': 7,\n",
       " 'rose': 92,\n",
       " 'hierarchy': 41,\n",
       " 'becoming': 9,\n",
       " 'general': 37,\n",
       " 'secretary': 95,\n",
       " 'appointed': 5,\n",
       " 'elected': 28,\n",
       " 'legislative': 56,\n",
       " 'assembly': 6,\n",
       " 'administration': 3,\n",
       " 'considered': 17,\n",
       " 'complicit': 15,\n",
       " 'riot': 91,\n",
       " 'criticised': 21,\n",
       " 'management': 59,\n",
       " 'crisis': 20,\n",
       " 'according': 1,\n",
       " 'official': 71,\n",
       " 'record': 88,\n",
       " 'little': 57,\n",
       " 'people': 77,\n",
       " 'killed': 53,\n",
       " 'three': 108,\n",
       " 'quarter': 85,\n",
       " 'muslim': 66,\n",
       " 'independent': 44,\n",
       " 'source': 102,\n",
       " 'estimated': 30,\n",
       " 'death': 23,\n",
       " 'mostly': 64,\n",
       " 'special': 103,\n",
       " 'investigation': 50,\n",
       " 'team': 107,\n",
       " 'supreme': 105,\n",
       " 'court': 18,\n",
       " 'found': 34,\n",
       " 'evidence': 31,\n",
       " 'initiate': 48,\n",
       " 'prosecution': 83,\n",
       " 'proceeding': 82,\n",
       " 'policy': 78,\n",
       " 'credited': 19,\n",
       " 'encouraging': 29,\n",
       " 'economic': 25,\n",
       " 'growth': 38,\n",
       " 'failing': 32,\n",
       " 'significantly': 99,\n",
       " 'improve': 43,\n",
       " 'health': 40,\n",
       " 'poverty': 80,\n",
       " 'index': 45,\n",
       " 'state': 104}"
      ]
     },
     "execution_count": 88,
     "metadata": {},
     "output_type": "execute_result"
    }
   ],
   "source": [
    "cv.vocabulary_"
   ]
  },
  {
   "cell_type": "code",
   "execution_count": 89,
   "id": "3e77467a",
   "metadata": {},
   "outputs": [
    {
     "data": {
      "text/plain": [
       "array([[0, 0, 0, 0, 0, 0, 0, 0, 0, 0, 0, 0, 1, 0, 0, 0, 0, 0, 0, 0, 0, 0,\n",
       "        1, 0, 0, 0, 0, 0, 0, 0, 0, 0, 0, 0, 0, 0, 0, 0, 0, 0, 0, 0, 0, 0,\n",
       "        0, 0, 1, 1, 0, 0, 0, 0, 0, 0, 0, 0, 0, 0, 0, 0, 0, 0, 1, 1, 0, 0,\n",
       "        0, 1, 0, 0, 0, 0, 0, 0, 0, 0, 0, 0, 0, 1, 0, 1, 0, 0, 0, 0, 0, 0,\n",
       "        0, 0, 0, 0, 0, 0, 0, 0, 1, 1, 0, 0, 1, 0, 0, 0, 0, 0, 0, 0, 0, 0,\n",
       "        0, 0, 0, 0]], dtype=int64)"
      ]
     },
     "execution_count": 89,
     "metadata": {},
     "output_type": "execute_result"
    }
   ],
   "source": [
    "X[0].toarray()"
   ]
  },
  {
   "cell_type": "code",
   "execution_count": 92,
   "id": "a9ca91a7",
   "metadata": {},
   "outputs": [
    {
     "ename": "TypeError",
     "evalue": "sparse matrix length is ambiguous; use getnnz() or shape[0]",
     "output_type": "error",
     "traceback": [
      "\u001b[1;31m---------------------------------------------------------------------------\u001b[0m",
      "\u001b[1;31mTypeError\u001b[0m                                 Traceback (most recent call last)",
      "Cell \u001b[1;32mIn[92], line 1\u001b[0m\n\u001b[1;32m----> 1\u001b[0m \u001b[38;5;28;01mfor\u001b[39;00m i \u001b[38;5;129;01min\u001b[39;00m \u001b[38;5;28mrange\u001b[39m(\u001b[38;5;28;43mlen\u001b[39;49m\u001b[43m(\u001b[49m\u001b[43mX\u001b[49m\u001b[43m)\u001b[49m):\n\u001b[0;32m      2\u001b[0m     \u001b[38;5;28mprint\u001b[39m(X[i])\n",
      "File \u001b[1;32m~\\AppData\\Local\\anaconda3\\lib\\site-packages\\scipy\\sparse\\_base.py:345\u001b[0m, in \u001b[0;36mspmatrix.__len__\u001b[1;34m(self)\u001b[0m\n\u001b[0;32m    344\u001b[0m \u001b[38;5;28;01mdef\u001b[39;00m \u001b[38;5;21m__len__\u001b[39m(\u001b[38;5;28mself\u001b[39m):\n\u001b[1;32m--> 345\u001b[0m     \u001b[38;5;28;01mraise\u001b[39;00m \u001b[38;5;167;01mTypeError\u001b[39;00m(\u001b[38;5;124m\"\u001b[39m\u001b[38;5;124msparse matrix length is ambiguous; use getnnz()\u001b[39m\u001b[38;5;124m\"\u001b[39m\n\u001b[0;32m    346\u001b[0m                     \u001b[38;5;124m\"\u001b[39m\u001b[38;5;124m or shape[0]\u001b[39m\u001b[38;5;124m\"\u001b[39m)\n",
      "\u001b[1;31mTypeError\u001b[0m: sparse matrix length is ambiguous; use getnnz() or shape[0]"
     ]
    }
   ],
   "source": [
    "for i in range(len(X)):\n",
    "    print(X[i])"
   ]
  },
  {
   "cell_type": "code",
   "execution_count": 93,
   "id": "ef2ff246",
   "metadata": {},
   "outputs": [
    {
     "ename": "TypeError",
     "evalue": "sparse matrix length is ambiguous; use getnnz() or shape[0]",
     "output_type": "error",
     "traceback": [
      "\u001b[1;31m---------------------------------------------------------------------------\u001b[0m",
      "\u001b[1;31mTypeError\u001b[0m                                 Traceback (most recent call last)",
      "Cell \u001b[1;32mIn[93], line 1\u001b[0m\n\u001b[1;32m----> 1\u001b[0m \u001b[38;5;28;43mlen\u001b[39;49m\u001b[43m(\u001b[49m\u001b[43mX\u001b[49m\u001b[43m)\u001b[49m\n",
      "File \u001b[1;32m~\\AppData\\Local\\anaconda3\\lib\\site-packages\\scipy\\sparse\\_base.py:345\u001b[0m, in \u001b[0;36mspmatrix.__len__\u001b[1;34m(self)\u001b[0m\n\u001b[0;32m    344\u001b[0m \u001b[38;5;28;01mdef\u001b[39;00m \u001b[38;5;21m__len__\u001b[39m(\u001b[38;5;28mself\u001b[39m):\n\u001b[1;32m--> 345\u001b[0m     \u001b[38;5;28;01mraise\u001b[39;00m \u001b[38;5;167;01mTypeError\u001b[39;00m(\u001b[38;5;124m\"\u001b[39m\u001b[38;5;124msparse matrix length is ambiguous; use getnnz()\u001b[39m\u001b[38;5;124m\"\u001b[39m\n\u001b[0;32m    346\u001b[0m                     \u001b[38;5;124m\"\u001b[39m\u001b[38;5;124m or shape[0]\u001b[39m\u001b[38;5;124m\"\u001b[39m)\n",
      "\u001b[1;31mTypeError\u001b[0m: sparse matrix length is ambiguous; use getnnz() or shape[0]"
     ]
    }
   ],
   "source": [
    "len(X)"
   ]
  },
  {
   "cell_type": "code",
   "execution_count": 95,
   "id": "6f8755c8",
   "metadata": {},
   "outputs": [
    {
     "data": {
      "text/plain": [
       "<1x114 sparse matrix of type '<class 'numpy.int64'>'\n",
       "\twith 12 stored elements in Compressed Sparse Row format>"
      ]
     },
     "execution_count": 95,
     "metadata": {},
     "output_type": "execute_result"
    }
   ],
   "source": [
    "X[0]"
   ]
  },
  {
   "cell_type": "code",
   "execution_count": 102,
   "id": "3e2af193",
   "metadata": {},
   "outputs": [
    {
     "data": {
      "text/plain": [
       "array([[0, 0, 0, 0, 0, 0, 0, 0, 0, 0, 0, 0, 0, 0, 0, 0, 0, 0, 0, 0, 0, 0,\n",
       "        0, 0, 0, 0, 0, 0, 0, 0, 0, 0, 0, 0, 0, 0, 0, 0, 0, 0, 0, 0, 0, 0,\n",
       "        0, 0, 0, 0, 0, 0, 0, 0, 0, 0, 0, 0, 0, 0, 0, 0, 0, 0, 0, 0, 0, 0,\n",
       "        0, 0, 0, 0, 0, 0, 0, 0, 0, 0, 0, 0, 0, 0, 0, 0, 0, 0, 0, 0, 0, 0,\n",
       "        0, 0, 0, 0, 0, 0, 0, 0, 0, 0, 0, 0, 0, 0, 0, 0, 0, 0, 0, 0, 0, 0,\n",
       "        0, 0, 0, 0]], dtype=int64)"
      ]
     },
     "execution_count": 102,
     "metadata": {},
     "output_type": "execute_result"
    }
   ],
   "source": [
    "X[14].toarray()"
   ]
  },
  {
   "cell_type": "code",
   "execution_count": 97,
   "id": "9c129f64",
   "metadata": {},
   "outputs": [
    {
     "ename": "NameError",
     "evalue": "name 'getnnz' is not defined",
     "output_type": "error",
     "traceback": [
      "\u001b[1;31m---------------------------------------------------------------------------\u001b[0m",
      "\u001b[1;31mNameError\u001b[0m                                 Traceback (most recent call last)",
      "Cell \u001b[1;32mIn[97], line 1\u001b[0m\n\u001b[1;32m----> 1\u001b[0m \u001b[43mgetnnz\u001b[49m(X)\n",
      "\u001b[1;31mNameError\u001b[0m: name 'getnnz' is not defined"
     ]
    }
   ],
   "source": [
    "getnnz(X)"
   ]
  },
  {
   "cell_type": "code",
   "execution_count": 103,
   "id": "9868aec3",
   "metadata": {},
   "outputs": [
    {
     "data": {
      "text/plain": [
       "'narendra damodardas modi [ ] born september [ b ] indian politician served prime minister india since'"
      ]
     },
     "execution_count": 103,
     "metadata": {},
     "output_type": "execute_result"
    }
   ],
   "source": [
    "corpus[0]"
   ]
  },
  {
   "cell_type": "code",
   "execution_count": 104,
   "id": "75ab05b3",
   "metadata": {},
   "outputs": [
    {
     "data": {
      "text/plain": [
       "'modi chief minister gujarat member parliament mp varanasi'"
      ]
     },
     "execution_count": 104,
     "metadata": {},
     "output_type": "execute_result"
    }
   ],
   "source": [
    "corpus[1]"
   ]
  },
  {
   "cell_type": "code",
   "execution_count": 105,
   "id": "47770054",
   "metadata": {},
   "outputs": [
    {
     "data": {
      "text/plain": [
       "<1x114 sparse matrix of type '<class 'numpy.int64'>'\n",
       "\twith 12 stored elements in Compressed Sparse Row format>"
      ]
     },
     "execution_count": 105,
     "metadata": {},
     "output_type": "execute_result"
    }
   ],
   "source": [
    "X[0]"
   ]
  },
  {
   "cell_type": "code",
   "execution_count": 106,
   "id": "f990c8ba",
   "metadata": {},
   "outputs": [
    {
     "data": {
      "text/plain": [
       "<1x114 sparse matrix of type '<class 'numpy.int64'>'\n",
       "\twith 8 stored elements in Compressed Sparse Row format>"
      ]
     },
     "execution_count": 106,
     "metadata": {},
     "output_type": "execute_result"
    }
   ],
   "source": [
    "X[1]"
   ]
  },
  {
   "cell_type": "code",
   "execution_count": null,
   "id": "1b197e33",
   "metadata": {},
   "outputs": [],
   "source": []
  }
 ],
 "metadata": {
  "kernelspec": {
   "display_name": "Python 3 (ipykernel)",
   "language": "python",
   "name": "python3"
  },
  "language_info": {
   "codemirror_mode": {
    "name": "ipython",
    "version": 3
   },
   "file_extension": ".py",
   "mimetype": "text/x-python",
   "name": "python",
   "nbconvert_exporter": "python",
   "pygments_lexer": "ipython3",
   "version": "3.10.9"
  }
 },
 "nbformat": 4,
 "nbformat_minor": 5
}
