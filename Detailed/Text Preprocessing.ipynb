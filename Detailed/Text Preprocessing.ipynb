{
 "cells": [
  {
   "cell_type": "markdown",
   "id": "17ba8acb",
   "metadata": {},
   "source": [
    "# Lowercasing"
   ]
  },
  {
   "cell_type": "code",
   "execution_count": 2,
   "id": "0ba1af4d",
   "metadata": {},
   "outputs": [],
   "source": [
    "import pandas as pd\n",
    "import numpy as np"
   ]
  },
  {
   "cell_type": "code",
   "execution_count": 44,
   "id": "9c76b28c",
   "metadata": {},
   "outputs": [],
   "source": [
    "df=pd.read_csv(\"IMDB Dataset.csv\")"
   ]
  },
  {
   "cell_type": "code",
   "execution_count": 45,
   "id": "32fe9379",
   "metadata": {},
   "outputs": [
    {
     "data": {
      "text/html": [
       "<div>\n",
       "<style scoped>\n",
       "    .dataframe tbody tr th:only-of-type {\n",
       "        vertical-align: middle;\n",
       "    }\n",
       "\n",
       "    .dataframe tbody tr th {\n",
       "        vertical-align: top;\n",
       "    }\n",
       "\n",
       "    .dataframe thead th {\n",
       "        text-align: right;\n",
       "    }\n",
       "</style>\n",
       "<table border=\"1\" class=\"dataframe\">\n",
       "  <thead>\n",
       "    <tr style=\"text-align: right;\">\n",
       "      <th></th>\n",
       "      <th>review</th>\n",
       "      <th>sentiment</th>\n",
       "    </tr>\n",
       "  </thead>\n",
       "  <tbody>\n",
       "    <tr>\n",
       "      <th>0</th>\n",
       "      <td>One of the other reviewers has mentioned that ...</td>\n",
       "      <td>positive</td>\n",
       "    </tr>\n",
       "    <tr>\n",
       "      <th>1</th>\n",
       "      <td>A wonderful little production. &lt;br /&gt;&lt;br /&gt;The...</td>\n",
       "      <td>positive</td>\n",
       "    </tr>\n",
       "    <tr>\n",
       "      <th>2</th>\n",
       "      <td>I thought this was a wonderful way to spend ti...</td>\n",
       "      <td>positive</td>\n",
       "    </tr>\n",
       "    <tr>\n",
       "      <th>3</th>\n",
       "      <td>Basically there's a family where a little boy ...</td>\n",
       "      <td>negative</td>\n",
       "    </tr>\n",
       "    <tr>\n",
       "      <th>4</th>\n",
       "      <td>Petter Mattei's \"Love in the Time of Money\" is...</td>\n",
       "      <td>positive</td>\n",
       "    </tr>\n",
       "  </tbody>\n",
       "</table>\n",
       "</div>"
      ],
      "text/plain": [
       "                                              review sentiment\n",
       "0  One of the other reviewers has mentioned that ...  positive\n",
       "1  A wonderful little production. <br /><br />The...  positive\n",
       "2  I thought this was a wonderful way to spend ti...  positive\n",
       "3  Basically there's a family where a little boy ...  negative\n",
       "4  Petter Mattei's \"Love in the Time of Money\" is...  positive"
      ]
     },
     "execution_count": 45,
     "metadata": {},
     "output_type": "execute_result"
    }
   ],
   "source": [
    "df.head()"
   ]
  },
  {
   "cell_type": "code",
   "execution_count": 46,
   "id": "6f773a6d",
   "metadata": {},
   "outputs": [
    {
     "data": {
      "text/plain": [
       "\"Basically there's a family where a little boy (Jake) thinks there's a zombie in his closet & his parents are fighting all the time.<br /><br />This movie is slower than a soap opera... and suddenly, Jake decides to become Rambo and kill the zombie.<br /><br />OK, first of all when you're going to make a film you must Decide if its a thriller or a drama! As a drama the movie is watchable. Parents are divorcing & arguing like in real life. And then we have Jake with his closet which totally ruins all the film! I expected to see a BOOGEYMAN similar movie, and instead i watched a drama with some meaningless thriller spots.<br /><br />3 out of 10 just for the well playing parents & descent dialogs. As for the shots with Jake: just ignore them.\""
      ]
     },
     "execution_count": 46,
     "metadata": {},
     "output_type": "execute_result"
    }
   ],
   "source": [
    "df.review[3]"
   ]
  },
  {
   "cell_type": "code",
   "execution_count": 47,
   "id": "79548329",
   "metadata": {},
   "outputs": [],
   "source": [
    "df.review=df.review.str.lower()"
   ]
  },
  {
   "cell_type": "code",
   "execution_count": 48,
   "id": "37ecdb8f",
   "metadata": {},
   "outputs": [
    {
     "data": {
      "text/plain": [
       "0        one of the other reviewers has mentioned that ...\n",
       "1        a wonderful little production. <br /><br />the...\n",
       "2        i thought this was a wonderful way to spend ti...\n",
       "3        basically there's a family where a little boy ...\n",
       "4        petter mattei's \"love in the time of money\" is...\n",
       "                               ...                        \n",
       "49995    i thought this movie did a down right good job...\n",
       "49996    bad plot, bad dialogue, bad acting, idiotic di...\n",
       "49997    i am a catholic taught in parochial elementary...\n",
       "49998    i'm going to have to disagree with the previou...\n",
       "49999    no one expects the star trek movies to be high...\n",
       "Name: review, Length: 50000, dtype: object"
      ]
     },
     "execution_count": 48,
     "metadata": {},
     "output_type": "execute_result"
    }
   ],
   "source": [
    "df.review"
   ]
  },
  {
   "cell_type": "markdown",
   "id": "2f5a07b1",
   "metadata": {},
   "source": [
    "# Remove HTML Tags"
   ]
  },
  {
   "cell_type": "code",
   "execution_count": 50,
   "id": "f94cd82e",
   "metadata": {},
   "outputs": [],
   "source": [
    "import regex as re"
   ]
  },
  {
   "cell_type": "code",
   "execution_count": 51,
   "id": "35b49244",
   "metadata": {},
   "outputs": [],
   "source": [
    "def remove_html(data):\n",
    "    return re.sub('<.*?>','',data)"
   ]
  },
  {
   "cell_type": "code",
   "execution_count": 52,
   "id": "400f53cd",
   "metadata": {},
   "outputs": [
    {
     "data": {
      "text/plain": [
       "\"basically there's a family where a little boy (jake) thinks there's a zombie in his closet & his parents are fighting all the time.<br /><br />this movie is slower than a soap opera... and suddenly, jake decides to become rambo and kill the zombie.<br /><br />ok, first of all when you're going to make a film you must decide if its a thriller or a drama! as a drama the movie is watchable. parents are divorcing & arguing like in real life. and then we have jake with his closet which totally ruins all the film! i expected to see a boogeyman similar movie, and instead i watched a drama with some meaningless thriller spots.<br /><br />3 out of 10 just for the well playing parents & descent dialogs. as for the shots with jake: just ignore them.\""
      ]
     },
     "execution_count": 52,
     "metadata": {},
     "output_type": "execute_result"
    }
   ],
   "source": [
    "df.review[3]"
   ]
  },
  {
   "cell_type": "code",
   "execution_count": 53,
   "id": "204363b5",
   "metadata": {},
   "outputs": [
    {
     "name": "stdout",
     "output_type": "stream",
     "text": [
      "basically there's a family where a little boy (jake) thinks there's a zombie in his closet & his parents are fighting all the time.this movie is slower than a soap opera... and suddenly, jake decides to become rambo and kill the zombie.ok, first of all when you're going to make a film you must decide if its a thriller or a drama! as a drama the movie is watchable. parents are divorcing & arguing like in real life. and then we have jake with his closet which totally ruins all the film! i expected to see a boogeyman similar movie, and instead i watched a drama with some meaningless thriller spots.3 out of 10 just for the well playing parents & descent dialogs. as for the shots with jake: just ignore them.\n"
     ]
    }
   ],
   "source": [
    "print(remove_html(df.review[3]))"
   ]
  },
  {
   "cell_type": "code",
   "execution_count": 54,
   "id": "1cd40604",
   "metadata": {},
   "outputs": [],
   "source": [
    "df.review=df.review.apply(remove_html)"
   ]
  },
  {
   "cell_type": "code",
   "execution_count": 55,
   "id": "dfc8d816",
   "metadata": {},
   "outputs": [
    {
     "data": {
      "text/plain": [
       "\"basically there's a family where a little boy (jake) thinks there's a zombie in his closet & his parents are fighting all the time.this movie is slower than a soap opera... and suddenly, jake decides to become rambo and kill the zombie.ok, first of all when you're going to make a film you must decide if its a thriller or a drama! as a drama the movie is watchable. parents are divorcing & arguing like in real life. and then we have jake with his closet which totally ruins all the film! i expected to see a boogeyman similar movie, and instead i watched a drama with some meaningless thriller spots.3 out of 10 just for the well playing parents & descent dialogs. as for the shots with jake: just ignore them.\""
      ]
     },
     "execution_count": 55,
     "metadata": {},
     "output_type": "execute_result"
    }
   ],
   "source": [
    "df.review[3]"
   ]
  },
  {
   "cell_type": "code",
   "execution_count": 56,
   "id": "b46b4f29",
   "metadata": {},
   "outputs": [],
   "source": [
    "   # Remove URLS"
   ]
  },
  {
   "cell_type": "code",
   "execution_count": 63,
   "id": "d6c8c8d9",
   "metadata": {},
   "outputs": [],
   "source": [
    "def remove_url(text):\n",
    "    return re.sub(r'https?://\\S+|www\\.\\S+','',text)"
   ]
  },
  {
   "cell_type": "code",
   "execution_count": 66,
   "id": "672b3b57",
   "metadata": {},
   "outputs": [],
   "source": [
    "text1='Hello how are you https://cloudworkspace.aig.com/Citrix/StoreWeb/#/logout?userHint=inactivity'"
   ]
  },
  {
   "cell_type": "code",
   "execution_count": 67,
   "id": "48cb5a0c",
   "metadata": {},
   "outputs": [
    {
     "name": "stdout",
     "output_type": "stream",
     "text": [
      "Hello how are you \n"
     ]
    }
   ],
   "source": [
    "print(remove_url(text1))"
   ]
  },
  {
   "cell_type": "markdown",
   "id": "a2e0f77b",
   "metadata": {},
   "source": [
    "# Removing Panctuations\n",
    "    - Just to avoid ambiguity of words with panctuation (Hello!!) and without Punctuation(Hello)"
   ]
  },
  {
   "cell_type": "code",
   "execution_count": 110,
   "id": "31e57dc0",
   "metadata": {},
   "outputs": [
    {
     "data": {
      "text/plain": [
       "'!\"#$%&\\'()*+,-./:;<=>?@[\\\\]^_`{|}~'"
      ]
     },
     "execution_count": 110,
     "metadata": {},
     "output_type": "execute_result"
    }
   ],
   "source": [
    "import string,time\n",
    "string.punctuation"
   ]
  },
  {
   "cell_type": "code",
   "execution_count": 111,
   "id": "10e05b55",
   "metadata": {},
   "outputs": [],
   "source": [
    "exclude=string.punctuation"
   ]
  },
  {
   "cell_type": "code",
   "execution_count": 116,
   "id": "c2c393c9",
   "metadata": {},
   "outputs": [],
   "source": [
    "def remove_punc(text):\n",
    "    for char in exclude:\n",
    "        text=text.replace(char,'')\n",
    "    return text\n",
    "        "
   ]
  },
  {
   "cell_type": "code",
   "execution_count": 134,
   "id": "5c725239",
   "metadata": {},
   "outputs": [
    {
     "name": "stdout",
     "output_type": "stream",
     "text": [
      "Hello How are you\n"
     ]
    }
   ],
   "source": [
    "start=time.time()\n",
    "print(remove_punc('Hello! How are you?'))\n",
    "time1=time.time()-start\n"
   ]
  },
  {
   "cell_type": "code",
   "execution_count": 135,
   "id": "f6f056e1",
   "metadata": {},
   "outputs": [],
   "source": [
    "# faster approach (better for larger datasets)\n",
    "def remove_punctuation(text):\n",
    "    return text.translate(str.maketrans('','',exclude))"
   ]
  },
  {
   "cell_type": "code",
   "execution_count": 136,
   "id": "7ec5e057",
   "metadata": {},
   "outputs": [
    {
     "name": "stdout",
     "output_type": "stream",
     "text": [
      "Hello How are you\n"
     ]
    }
   ],
   "source": [
    "start=time.time()\n",
    "print(remove_punctuation('Hello! How are you?'))\n",
    "time2=time.time()-start"
   ]
  },
  {
   "cell_type": "markdown",
   "id": "67506542",
   "metadata": {},
   "source": [
    "# Chat Word Treatment\n",
    "    - shortform (like, FYI, GN, ASAP etc) to full form to get context"
   ]
  },
  {
   "cell_type": "code",
   "execution_count": 140,
   "id": "47f7d3ab",
   "metadata": {},
   "outputs": [],
   "source": [
    "chat_words={\n",
    "    \"FYI\":\"For your information\",\n",
    "    \"GN\":\"Good Night\",\n",
    "    \"ASAP\":\"As soon as possible\"\n",
    "}"
   ]
  },
  {
   "cell_type": "code",
   "execution_count": 149,
   "id": "a158494c",
   "metadata": {},
   "outputs": [],
   "source": [
    "def chatword_conversion(text):\n",
    "    sent=[]\n",
    "    for words in text.split():\n",
    "        if words.upper() in chat_words.keys():\n",
    "            sent.append(chat_words[words.upper()])\n",
    "        else:\n",
    "            sent.append(words)\n",
    "    return \" \".join(sent)\n",
    "        \n",
    "        \n",
    "        "
   ]
  },
  {
   "cell_type": "code",
   "execution_count": 153,
   "id": "09799d35",
   "metadata": {},
   "outputs": [
    {
     "data": {
      "text/plain": [
       "'For your information , I need it As soon as possible'"
      ]
     },
     "execution_count": 153,
     "metadata": {},
     "output_type": "execute_result"
    }
   ],
   "source": [
    "chatword_conversion(\"FYI , I need it ASAP\")"
   ]
  },
  {
   "cell_type": "markdown",
   "id": "17b2d0cc",
   "metadata": {},
   "source": [
    "# Spelling Correction"
   ]
  },
  {
   "cell_type": "code",
   "execution_count": 157,
   "id": "4206e67b",
   "metadata": {},
   "outputs": [],
   "source": [
    "# !pip install textblob\n",
    "from textblob import TextBlob"
   ]
  },
  {
   "cell_type": "code",
   "execution_count": 165,
   "id": "6b303d46",
   "metadata": {},
   "outputs": [],
   "source": [
    "incorrect_text=\"ceertain conditionas durring seveal ggenerations aree modfigied in the saame maner\""
   ]
  },
  {
   "cell_type": "code",
   "execution_count": 166,
   "id": "ba5924e6",
   "metadata": {},
   "outputs": [],
   "source": [
    "textblb=TextBlob(incorrect_text)"
   ]
  },
  {
   "cell_type": "code",
   "execution_count": 167,
   "id": "ee9c58ab",
   "metadata": {},
   "outputs": [
    {
     "data": {
      "text/plain": [
       "'certain conditions during several generations are modified in the same manner'"
      ]
     },
     "execution_count": 167,
     "metadata": {},
     "output_type": "execute_result"
    }
   ],
   "source": [
    "textblb.correct().string"
   ]
  },
  {
   "cell_type": "markdown",
   "id": "96fbdea1",
   "metadata": {},
   "source": [
    "# Remove Stop Words"
   ]
  },
  {
   "cell_type": "code",
   "execution_count": 168,
   "id": "7dae6daf",
   "metadata": {},
   "outputs": [],
   "source": [
    "import nltk"
   ]
  },
  {
   "cell_type": "code",
   "execution_count": 176,
   "id": "b57610b1",
   "metadata": {
    "scrolled": true
   },
   "outputs": [],
   "source": [
    "from nltk.corpus import stopwords\n"
   ]
  },
  {
   "cell_type": "code",
   "execution_count": 179,
   "id": "e16298c7",
   "metadata": {},
   "outputs": [
    {
     "data": {
      "text/plain": [
       "\"a about above after again against ain all am an and any are aren aren't as at be because been before being below between both but by can couldn couldn't d did didn didn't do does doesn doesn't doing don don't down during each few for from further had hadn hadn't has hasn hasn't have haven haven't having he he'd he'll her here hers herself he's him himself his how i i'd if i'll i'm in into is isn isn't it it'd it'll it's its itself i've just ll m ma me mightn mightn't more most mustn mustn't my myself needn needn't no nor not now o of off on once only or other our ours ourselves out over own re s same shan shan't she she'd she'll she's should shouldn shouldn't should've so some such t than that that'll the their theirs them themselves then there these they they'd they'll they're they've this those through to too under until up ve very was wasn wasn't we we'd we'll we're were weren weren't we've what when where which while who whom why will with won won't wouldn wouldn't y you you'd you'll your you're yours yourself yourselves you've\""
      ]
     },
     "execution_count": 179,
     "metadata": {},
     "output_type": "execute_result"
    }
   ],
   "source": [
    "' '.join(stopwords.words('english'))"
   ]
  },
  {
   "cell_type": "code",
   "execution_count": 215,
   "id": "6dd1fdb8",
   "metadata": {},
   "outputs": [],
   "source": [
    "def remove_stopwords(text):\n",
    "    new_text=[]\n",
    "    for word in text.split():\n",
    "        word=word if word not in stopwords.words('english') else ''\n",
    "        new_text.append(word)\n",
    "#     x=new_text[:]\n",
    "#     new_text.clear()    \n",
    "#     return ' '.join(x)\n",
    "    return ' '.join(new_text)\n",
    "            "
   ]
  },
  {
   "cell_type": "code",
   "execution_count": 216,
   "id": "7d40eb94",
   "metadata": {},
   "outputs": [
    {
     "data": {
      "text/plain": [
       "'He   good boy'"
      ]
     },
     "execution_count": 216,
     "metadata": {},
     "output_type": "execute_result"
    }
   ],
   "source": [
    "remove_stopwords(\"He is a good boy\")"
   ]
  },
  {
   "cell_type": "markdown",
   "id": "2775c4bc",
   "metadata": {},
   "source": [
    "# Handling Emojis"
   ]
  },
  {
   "cell_type": "markdown",
   "id": "3397d83a",
   "metadata": {},
   "source": [
    "## 1. Replace with emoji expression in text"
   ]
  },
  {
   "cell_type": "code",
   "execution_count": 218,
   "id": "76407399",
   "metadata": {},
   "outputs": [
    {
     "name": "stdout",
     "output_type": "stream",
     "text": [
      "Collecting emoji\n",
      "  Downloading emoji-2.14.1-py3-none-any.whl (590 kB)\n",
      "     -------------------------------------- 590.6/590.6 kB 5.3 MB/s eta 0:00:00\n",
      "Installing collected packages: emoji\n",
      "Successfully installed emoji-2.14.1\n"
     ]
    }
   ],
   "source": [
    "!pip install emoji\n",
    "# import emoji"
   ]
  },
  {
   "cell_type": "code",
   "execution_count": 219,
   "id": "a9882a19",
   "metadata": {},
   "outputs": [],
   "source": [
    "import emoji"
   ]
  },
  {
   "cell_type": "code",
   "execution_count": 221,
   "id": "93031618",
   "metadata": {},
   "outputs": [
    {
     "data": {
      "text/plain": [
       "'I had a great day with my family :family_man_woman_girl_boy: and we ate delicious food :pizza::face_savoring_food:!'"
      ]
     },
     "execution_count": 221,
     "metadata": {},
     "output_type": "execute_result"
    }
   ],
   "source": [
    "emoji.demojize(\"I had a great day with my family 👨‍👩‍👧‍👦 and we ate delicious food 🍕😋!\")"
   ]
  },
  {
   "cell_type": "markdown",
   "id": "41a7de43",
   "metadata": {},
   "source": [
    "## 2, Remove Emoji"
   ]
  },
  {
   "cell_type": "code",
   "execution_count": 224,
   "id": "1af7becd",
   "metadata": {},
   "outputs": [],
   "source": [
    "def remove_emoji(text):\n",
    "    emoji_pattern=re.compile(\"[\"\n",
    "                            u\"\\U0001F600-\\U0001F64F\"\n",
    "                            u\"\\U0001F300-\\U0001F5FF\"\n",
    "                            u\"\\U0001F680-\\U0001F6FF\"\n",
    "                            u\"\\U0001F1E0-\\U0001F1FF\"\n",
    "                            u\"\\U00012702-\\U000127B0\"\n",
    "                            u\"\\U000124C2-\\U0001F251\"\n",
    "                            \"]+\", flags=re.UNICODE)\n",
    "    return emoji_pattern.sub(\"\",text)"
   ]
  },
  {
   "cell_type": "code",
   "execution_count": 226,
   "id": "ce6ec920",
   "metadata": {},
   "outputs": [
    {
     "data": {
      "text/plain": [
       "'I had a great day with my family \\u200d\\u200d\\u200d and we ate delicious food !'"
      ]
     },
     "execution_count": 226,
     "metadata": {},
     "output_type": "execute_result"
    }
   ],
   "source": [
    "remove_emoji(\"I had a great day with my family 👨‍👩‍👧‍👦 and we ate delicious food 🍕😋!\")"
   ]
  },
  {
   "cell_type": "code",
   "execution_count": null,
   "id": "c7fe30e3",
   "metadata": {},
   "outputs": [],
   "source": []
  }
 ],
 "metadata": {
  "kernelspec": {
   "display_name": "Python 3 (ipykernel)",
   "language": "python",
   "name": "python3"
  },
  "language_info": {
   "codemirror_mode": {
    "name": "ipython",
    "version": 3
   },
   "file_extension": ".py",
   "mimetype": "text/x-python",
   "name": "python",
   "nbconvert_exporter": "python",
   "pygments_lexer": "ipython3",
   "version": "3.10.9"
  }
 },
 "nbformat": 4,
 "nbformat_minor": 5
}
