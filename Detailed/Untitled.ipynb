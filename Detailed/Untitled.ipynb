{
 "cells": [
  {
   "cell_type": "markdown",
   "id": "abd80d45",
   "metadata": {},
   "source": [
    "# NLP Pipeline\n",
    "1. Data Acquisition\n",
    "2. Text Preparation\n",
    "    - Text Cleanup\n",
    "    - Basic Preprocessing\n",
    "    - Advance Preprocessing\n",
    "3. Feature Engineering\n",
    "4. Modelling\n",
    "    - Model Building\n",
    "    - MOdel Evaluation\n",
    "5. Deployement\n",
    "    - Deployement\n",
    "    - Monitoring\n",
    "    - Model Update"
   ]
  },
  {
   "cell_type": "markdown",
   "id": "f1cc30ca",
   "metadata": {},
   "source": [
    "- This pipeline is not universal.\n",
    "- Deeplearning Pipelines are slightly different\n",
    "- Pipelineas are not - linear. (Means ordering are not fixed.)"
   ]
  },
  {
   "cell_type": "markdown",
   "id": "19ffed55",
   "metadata": {},
   "source": [
    "# 1. Data Acquisition\n",
    "    - Data is available\n",
    "        - Ready to use\n",
    "            - Perfect to momove ahead with data preprocessing\n",
    "        - In some other database\n",
    "            - Contact Data engineer to provide the data\n",
    "        - LEss Data avaialbe than required\n",
    "            - Data Augmentation (some tools are there)\n",
    "                - Replace words with Synonyms\n",
    "                - BiGram Flip\n",
    "                - Back Transtale (translate into another language and again back traslate tinto original language).\n",
    "                add noise\n",
    "\n",
    "    - Data avaialble with third Party\n",
    "        - Use a public dataset\n",
    "            - kaggle, universities etc.\n",
    "            - if my product are unique, then these data might not be suitable for our use.\n",
    "        - Web Scrapping\n",
    "            - Can scrap data from competetors website\n",
    "            - Can use **beautifulsoup** library to scrap the data\n",
    "        - Go to API to get data\n",
    "            - need to check textual database API for our specific use case which is challenging\n",
    "            - RapidAPI -> \"request\" library to fetch data in JSON format\n",
    "        - data in PDF\n",
    "            - Data can be in PDF.\n",
    "        - data in Image\n",
    "            - Data can be in image (customer review written on paper then uploaded)\n",
    "        - Data in Audio\n",
    "            - Customer call recordings\n",
    "            - can use library which convers speech to text.\n",
    "            \n",
    "    - Data is not available anywhere\n",
    "        - Will talk to product team to get reviews from loyal customers (in case we are working on sentiment analysis on based of customer reviews)\n",
    "        - collected data is less and need a proper tagging/label.\n",
    "        - can use heuristic approach in this\n",
    "    "
   ]
  },
  {
   "cell_type": "markdown",
   "id": "123b9f98",
   "metadata": {},
   "source": [
    "# 2. Text Preparation\n",
    "1. Basic Cleaning\n",
    "2. Basic Text preprocessing\n",
    "3. Advance text preprocessing\n",
    "\n",
    "* Basic Cleaning\n",
    "    - HTML tag cleaning (can use regular expression)\n",
    "    - Emoji Conversion\n",
    "        - Can use Unicode Normalization (conver emoji in utf-8 code)\n",
    "        - Remove\n",
    "        - Replace with text description of emoji (demojize) emotions (using \"emoji\" library)\n",
    "    - Spelling checker\n",
    "        - Can use library **TextBlob\" to correct spellings.\n",
    "    - Depends upon the type of task ton which we are working\n",
    "* Basic Preprocessing\n",
    "    - Basic\n",
    "        - Tokenization\n",
    "            - Sentence Tokenization.\n",
    "                - Separate each sentence from paragraph\n",
    "            - Word Tokenization\n",
    "                - Separate each word of Sentence\n",
    "    - Optional\n",
    "        - Stop words removal\n",
    "        - Stemming/Lemmatization\n",
    "        - Removing punctuations/digits\n",
    "        - lowercasing\n",
    "        - Language Detection (in text rranslation system)\n",
    "* Advance Preprocessing\n",
    "    - PoS tagging\n",
    "    - Parsing\n",
    "        - Pos Tagging and parsing can only be done if we have NOT removed stopwords\n",
    "    - Coreference resolution\n",
    "    - Chunking"
   ]
  },
  {
   "cell_type": "markdown",
   "id": "90512c59",
   "metadata": {},
   "source": [
    "# 3. Feature Engineering\n",
    "    * Process of converting text into features(numeric).\n",
    "        - One hot encoding\n",
    "        - n-grams\n",
    "        - Bag of Words\n",
    "        - Tf-IDF\n",
    "        - Word2Vec\n",
    "    * We need to decide the approach according to our problem statement\n",
    "        \n",
    "- In ML based NLP model,\n",
    "    * We create features at our own, using domain knowledge\n",
    "    * Advantage:-\n",
    "        - Interpretibility is easier\n",
    "        - Can gather feature importance for the created feature\n",
    "    * Disadvantages:\n",
    "        - Gathering domain knowldge is difficult sometime\n",
    "        - Not all feature created is actually useful in model\n",
    "        \n",
    "- In Deep Learning based model\n",
    "    * features gets created automatically, as we pass our cleaned data directly\n",
    "    * Advantages :-\n",
    "        - No need to spend time on feature creation\n",
    "    \n",
    "    * Disadvantages:-\n",
    "        - Interpretibility of feature is difficult"
   ]
  },
  {
   "cell_type": "markdown",
   "id": "907e2fac",
   "metadata": {},
   "source": [
    "# 4. Modelling\n",
    "* Modelling\n",
    "    - Heuristic\n",
    "    - ML Algo\n",
    "    - Deep Learning\n",
    "    - Cloud API (if cloud services API available for our problem statements)\n",
    "    \n",
    "    \n",
    "    * Depends upon usecases and amonut of data we have (less data-> Heuristic, more data-> Deep Learing), we can chose one (or combine two or more) of the approaches to solve our use case\n",
    "    \n",
    "* Evaluation\n",
    "    - Intrinsic Evaluation\n",
    "        - Model Evaluation metrics, based on solely model performance (precision, recall, perplexity etc.)\n",
    "    - Extrinsic Evaluation\n",
    "        - Is my suggestion from model actually driving user to use my model output?"
   ]
  },
  {
   "cell_type": "markdown",
   "id": "eb36d95d",
   "metadata": {},
   "source": [
    "# 5. Deployement\n",
    "1. Deployment\n",
    "2. Monitoring\n",
    "3. Update"
   ]
  },
  {
   "cell_type": "code",
   "execution_count": null,
   "id": "9125fe04",
   "metadata": {},
   "outputs": [],
   "source": []
  }
 ],
 "metadata": {
  "kernelspec": {
   "display_name": "Python 3 (ipykernel)",
   "language": "python",
   "name": "python3"
  },
  "language_info": {
   "codemirror_mode": {
    "name": "ipython",
    "version": 3
   },
   "file_extension": ".py",
   "mimetype": "text/x-python",
   "name": "python",
   "nbconvert_exporter": "python",
   "pygments_lexer": "ipython3",
   "version": "3.10.9"
  }
 },
 "nbformat": 4,
 "nbformat_minor": 5
}
